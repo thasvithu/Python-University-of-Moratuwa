{
 "cells": [
  {
   "cell_type": "markdown",
   "id": "817aa922",
   "metadata": {},
   "source": [
    "## Sets in Python"
   ]
  },
  {
   "cell_type": "code",
   "execution_count": 1,
   "id": "2d415bbc",
   "metadata": {},
   "outputs": [],
   "source": [
    "fruits = {\"apple\", \"orange\", \"banana\"}\n",
    "fruits.add(\"mango\")"
   ]
  },
  {
   "cell_type": "code",
   "execution_count": 2,
   "id": "38b2fb15",
   "metadata": {},
   "outputs": [
    {
     "data": {
      "text/plain": [
       "{'apple', 'banana', 'mango', 'orange'}"
      ]
     },
     "execution_count": 2,
     "metadata": {},
     "output_type": "execute_result"
    }
   ],
   "source": [
    "fruits"
   ]
  },
  {
   "cell_type": "code",
   "execution_count": null,
   "id": "fa212d98",
   "metadata": {},
   "outputs": [],
   "source": []
  }
 ],
 "metadata": {
  "kernelspec": {
   "display_name": "Python 3 (ipykernel)",
   "language": "python",
   "name": "python3"
  },
  "language_info": {
   "codemirror_mode": {
    "name": "ipython",
    "version": 3
   },
   "file_extension": ".py",
   "mimetype": "text/x-python",
   "name": "python",
   "nbconvert_exporter": "python",
   "pygments_lexer": "ipython3",
   "version": "3.11.5"
  }
 },
 "nbformat": 4,
 "nbformat_minor": 5
}
